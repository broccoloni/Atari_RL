{
 "cells": [
  {
   "cell_type": "code",
   "execution_count": 13,
   "id": "8cbe8b12",
   "metadata": {},
   "outputs": [],
   "source": [
    "import numpy as np\n",
    "import gym\n",
    "import time\n",
    "import matplotlib.pyplot as plt\n",
    "import torch\n",
    "from AtariNet import *\n",
    "from tqdm import tqdm\n",
    "import os\n",
    "from copy import deepcopy\n",
    "from ale_py import ALEInterface\n",
    "almightyint = 6671111 #call pizza pizza hey hey hey"
   ]
  },
  {
   "cell_type": "code",
   "execution_count": 19,
   "id": "824249e0",
   "metadata": {},
   "outputs": [],
   "source": [
    "def evaluate(game,seed,mut,env,avg_rewards,i):\n",
    "    #create initial model\n",
    "    params = game_params(game)\n",
    "    numactions = params[0]\n",
    "    inshape = params[1]\n",
    "    mut_power = params[2]\n",
    "    test_size = params[3]\n",
    "    poolsizes = params[4]\n",
    "    numconvlayers = params[5]\n",
    "\n",
    "    torch.manual_seed(seed)\n",
    "    atarinet = AtariNetCONV(inshape=inshape,\n",
    "                            poolsizes = poolsizes,\n",
    "                            numconvlayers = numconvlayers, \n",
    "                            outsize = numactions)\n",
    "\n",
    "    #apply mutations\n",
    "    atarinet.mutate(mut_power,mut)\n",
    "            \n",
    "    total_rewards = []\n",
    "    for i_episode in range(test_size):\n",
    "        #print(i,i_episode)\n",
    "        obs = env.reset()\n",
    "        prev_obs = np.zeros(obs.shape)\n",
    "        rewards = []\n",
    "        cur_lives = 4\n",
    "        prev_lives = 4\n",
    "        for t in range(5000):\n",
    "#             env.render(mode='human')\n",
    "\n",
    "            #Preprocessing\n",
    "            observation = ProcessIm(game,t,obs,prev_obs)    \n",
    "\n",
    "            #Forward pass\n",
    "            probs = atarinet.forward(observation)\n",
    "\n",
    "            #Sample action space from probability distribution\n",
    "            action = np.random.choice(numactions, 1, p = probs.detach().numpy())[0]\n",
    "\n",
    "            #Take action\n",
    "            prev_obs = obs\n",
    "            obs, reward, done, info = env.step(action)\n",
    "\n",
    "            #Store values of episode\n",
    "            rewards.append(reward)\n",
    "        total_rewards.append(np.sum(rewards))\n",
    "    #print(\"finished ind:\",i)\n",
    "    avg_rewards[i] = np.mean(total_rewards)"
   ]
  },
  {
   "cell_type": "code",
   "execution_count": 20,
   "id": "1b643af7",
   "metadata": {},
   "outputs": [],
   "source": [
    "def select_and_mutate(population,mutations,avg_rewards,pop_size,trunc):\n",
    "    fit_order = np.argsort(avg_rewards)[::-1] #best to worst\n",
    "\n",
    "    print(\"Average rewards:\\t\",np.mean(avg_rewards))\n",
    "    print(\"Min reward:\\t\\t\",avg_rewards[fit_order[-1]])\n",
    "    print(\"Max reward:\\t\\t\",avg_rewards[fit_order[0]])\n",
    "    print() \n",
    "\n",
    "    #Probabilistic selection based off of rewards received\n",
    "    #selection_probs = np.exp(avg_rewards[fit_order])/np.sum(np.exp(avg_rewards))\n",
    "    #survivors = np.random.choice(pop_size+arch_size,pop_size,p = selection_probs)\n",
    "\n",
    "    #cutoff selection\n",
    "    np.random.seed(seed = almightyint)\n",
    "    survivors = fit_order[np.random.randint(0,trunc,size = pop_size)]\n",
    "    arch_size = len(population) - pop_size\n",
    "    survivors = np.append(survivors,fit_order[:arch_size])\n",
    "    population = [population[i] for i in survivors]    \n",
    "\n",
    "    mutations = [deepcopy(mutations[i]) for i in survivors]\n",
    "    for i in range(pop_size):\n",
    "        mutations[i].append(np.random.randint(almightyint))\n",
    "        \n",
    "    return population,mutations,avg_rewards"
   ]
  },
  {
   "cell_type": "code",
   "execution_count": 21,
   "id": "c9d43f17",
   "metadata": {},
   "outputs": [],
   "source": [
    "def load_gen(game,cur_gen,pop_size,trunc):\n",
    "    data = np.load(\"{}/GAseeds_{}_nmp_{}.npz\".format(game,game,cur_gen),allow_pickle = True)\n",
    "    data = [data[key] for key in data]\n",
    "    data = data[1]\n",
    "    population = data[0]\n",
    "    mutations = data[1]\n",
    "    avg_rewards = np.array(data[2],dtype = float)\n",
    "    select_and_mutate(population,mutations,avg_rewards,pop_size,trunc)\n",
    "    return population,mutations,avg_rewards"
   ]
  },
  {
   "cell_type": "code",
   "execution_count": 24,
   "id": "600cb5b7",
   "metadata": {},
   "outputs": [],
   "source": [
    "def game_params(game):\n",
    "    if game == 'Tetris':\n",
    "        numactions = 18\n",
    "        inshape = [176,42]\n",
    "        mut_power = 0.002\n",
    "        test_size = 30\n",
    "        poolsizes = [3,2] #3 makes sense since tetris blocks are 3 pixels wide\n",
    "        numconvlayers = 6 #makes field of vision of last layer full width of processed frame\n",
    "        trunc = 3\n",
    "\n",
    "    elif game == 'DemonAttack':\n",
    "        numactions = 6\n",
    "        inshape = [210,160]\n",
    "        mut_power = 0.002\n",
    "        test_size = 30\n",
    "        poolsizes = [2,2]\n",
    "        numconvlayers = 10\n",
    "        trunc = 50\n",
    "\n",
    "    return [numactions,inshape,mut_power,test_size,poolsizes,numconvlayers,trunc]"
   ]
  },
  {
   "cell_type": "code",
   "execution_count": null,
   "id": "d87c0f07",
   "metadata": {},
   "outputs": [
    {
     "name": "stdout",
     "output_type": "stream",
     "text": [
      "Starting GA:\n",
      "Generation:\t1/5\n"
     ]
    },
    {
     "name": "stderr",
     "output_type": "stream",
     "text": [
      "\r",
      "  0%|                                                                                          | 0/6 [00:00<?, ?it/s]"
     ]
    },
    {
     "name": "stdout",
     "output_type": "stream",
     "text": [
      "REWARDS BEFORE: [0. 0. 0. 0. 0. 0.]\n"
     ]
    },
    {
     "name": "stderr",
     "output_type": "stream",
     "text": [
      "\r",
      " 17%|█████████████▌                                                                   | 1/6 [02:26<12:14, 146.81s/it]"
     ]
    },
    {
     "name": "stdout",
     "output_type": "stream",
     "text": [
      "CUR REWARDS: 0 0.0\n",
      "REWARDS AFTER: [0. 0. 0. 0. 0. 0.]\n",
      "REWARDS BEFORE: [0. 0. 0. 0. 0. 0.]\n"
     ]
    },
    {
     "name": "stderr",
     "output_type": "stream",
     "text": [
      "\r",
      " 33%|███████████████████████████                                                      | 2/6 [04:42<09:20, 140.03s/it]"
     ]
    },
    {
     "name": "stdout",
     "output_type": "stream",
     "text": [
      "CUR REWARDS: 1 0.0\n",
      "REWARDS AFTER: [0. 0. 0. 0. 0. 0.]\n",
      "REWARDS BEFORE: [0. 0. 0. 0. 0. 0.]\n"
     ]
    },
    {
     "name": "stderr",
     "output_type": "stream",
     "text": [
      "\r",
      " 50%|████████████████████████████████████████▌                                        | 3/6 [07:01<06:59, 139.97s/it]"
     ]
    },
    {
     "name": "stdout",
     "output_type": "stream",
     "text": [
      "CUR REWARDS: 2 0.03333333333333333\n",
      "REWARDS AFTER: [0.         0.         0.03333333 0.         0.         0.        ]\n",
      "REWARDS BEFORE: [0.         0.         0.03333333 0.         0.         0.        ]\n"
     ]
    },
    {
     "name": "stderr",
     "output_type": "stream",
     "text": [
      "\r",
      " 67%|██████████████████████████████████████████████████████                           | 4/6 [09:12<04:32, 136.19s/it]"
     ]
    },
    {
     "name": "stdout",
     "output_type": "stream",
     "text": [
      "CUR REWARDS: 3 0.0\n",
      "REWARDS AFTER: [0.         0.         0.03333333 0.         0.         0.        ]\n",
      "REWARDS BEFORE: [0.         0.         0.03333333 0.         0.         0.        ]\n"
     ]
    },
    {
     "name": "stderr",
     "output_type": "stream",
     "text": [
      "\r",
      " 83%|███████████████████████████████████████████████████████████████████▌             | 5/6 [11:17<02:12, 132.05s/it]"
     ]
    },
    {
     "name": "stdout",
     "output_type": "stream",
     "text": [
      "CUR REWARDS: 4 0.03333333333333333\n",
      "REWARDS AFTER: [0.         0.         0.03333333 0.         0.03333333 0.        ]\n",
      "REWARDS BEFORE: [0.         0.         0.03333333 0.         0.03333333 0.        ]\n"
     ]
    },
    {
     "name": "stderr",
     "output_type": "stream",
     "text": [
      "100%|█████████████████████████████████████████████████████████████████████████████████| 6/6 [13:21<00:00, 133.51s/it]\n"
     ]
    },
    {
     "name": "stdout",
     "output_type": "stream",
     "text": [
      "CUR REWARDS: 5 0.03333333333333333\n",
      "REWARDS AFTER: [0.         0.         0.03333333 0.         0.03333333 0.03333333]\n",
      "Average rewards:\t 0.016666666666666666\n",
      "Min reward:\t\t 0.0\n",
      "Max reward:\t\t 0.03333333333333333\n",
      "\n",
      "MUTATIONS BEFORE:\n",
      "[[], [], [], [], [], []]\n",
      "MUTATIONS AFTER:\n",
      "[[67287], [4150777], [5618346], [2633381], [5970387], []]\n",
      "Generation:\t2/5\n"
     ]
    },
    {
     "name": "stderr",
     "output_type": "stream",
     "text": [
      "\r",
      "  0%|                                                                                          | 0/6 [00:00<?, ?it/s]"
     ]
    },
    {
     "name": "stdout",
     "output_type": "stream",
     "text": [
      "REWARDS BEFORE: [0.         0.         0.03333333 0.         0.03333333 0.03333333]\n",
      "torch.Size([10, 1, 3, 3])\n",
      "torch.Size([10])\n",
      "torch.Size([10, 10, 3, 3])\n",
      "torch.Size([10])\n",
      "torch.Size([10, 10, 3, 3])\n",
      "torch.Size([10])\n",
      "torch.Size([10, 10, 3, 3])\n",
      "torch.Size([10])\n",
      "torch.Size([10, 10, 3, 3])\n",
      "torch.Size([10])\n",
      "torch.Size([10, 10, 3, 3])\n",
      "torch.Size([10])\n",
      "torch.Size([500, 2030])\n",
      "torch.Size([500])\n",
      "torch.Size([18, 500])\n",
      "torch.Size([18])\n"
     ]
    }
   ],
   "source": [
    "game = \"Tetris\"\n",
    "pop_size = 5\n",
    "arch_size = 1\n",
    "num_gens = 5\n",
    "cur_gen = 0\n",
    "params = game_params(game)\n",
    "trunc = params[-1]\n",
    "\n",
    "ale = ALEInterface()\n",
    "env = gym.make('ALE/{}-v5'.format(game), render_mode='rgb_array')\n",
    "env = gym.wrappers.GrayScaleObservation(env)\n",
    "\n",
    "if cur_gen != 0:\n",
    "    population,mutations,avg_rewards = load_gen(game,cur_gen,pop_size,trunc)\n",
    "else:\n",
    "    population = np.random.randint(0,almightyint,size = pop_size+arch_size)\n",
    "    mutations = [[] for i in range(pop_size+arch_size)]\n",
    "    avg_rewards = np.zeros(arch_size+pop_size)\n",
    "\n",
    "print(\"Starting GA:\")\n",
    "for gen in range(cur_gen,cur_gen+num_gens):\n",
    "    print(\"Generation:\\t{}/{}\".format(gen+1,num_gens))\n",
    "    for i in tqdm(range(pop_size+arch_size)):\n",
    "        seed = population[i]\n",
    "        mut = mutations[i]\n",
    "        print(\"REWARDS BEFORE:\",avg_rewards)\n",
    "        evaluate(game,seed,mut,env,avg_rewards,i)\n",
    "        print(\"REWARDS AFTER:\",avg_rewards)\n",
    "    #save here so we can reconstruct the next generation if need be\n",
    "    np.savez(\"{}/GAseeds_{}_nmp_{}.npz\".format(game,game,gen+1),[population,mutations,avg_rewards],allow_pickle = True)\n",
    "    population,mutations,avg_rewards = select_and_mutate(population,mutations,avg_rewards,pop_size,trunc)"
   ]
  },
  {
   "cell_type": "code",
   "execution_count": null,
   "id": "91b57801",
   "metadata": {},
   "outputs": [],
   "source": []
  }
 ],
 "metadata": {
  "kernelspec": {
   "display_name": "Python 3 (ipykernel)",
   "language": "python",
   "name": "python3"
  },
  "language_info": {
   "codemirror_mode": {
    "name": "ipython",
    "version": 3
   },
   "file_extension": ".py",
   "mimetype": "text/x-python",
   "name": "python",
   "nbconvert_exporter": "python",
   "pygments_lexer": "ipython3",
   "version": "3.8.10"
  }
 },
 "nbformat": 4,
 "nbformat_minor": 5
}
